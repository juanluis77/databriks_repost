{
 "cells": [
  {
   "cell_type": "markdown",
   "metadata": {
    "application/vnd.databricks.v1+cell": {
     "cellMetadata": {
      "byteLimit": 2048000,
      "rowLimit": 10000
     },
     "inputWidgets": {},
     "nuid": "cb44a6f1-ec32-4000-94a9-805fa55bc7a5",
     "showTitle": false,
     "tableResultSettingsMap": {},
     "title": ""
    }
   },
   "source": [
    "# Caso Berka Preparacion de datos"
   ]
  },
  {
   "cell_type": "code",
   "execution_count": 0,
   "metadata": {
    "application/vnd.databricks.v1+cell": {
     "cellMetadata": {
      "byteLimit": 2048000,
      "implicitDf": true,
      "rowLimit": 10000
     },
     "inputWidgets": {},
     "nuid": "b5a4b3b5-34ea-40b2-b974-a08fa83c6d46",
     "showTitle": false,
     "tableResultSettingsMap": {},
     "title": ""
    }
   },
   "outputs": [
    {
     "output_type": "display_data",
     "data": {
      "text/html": [
       "<style scoped>\n",
       "  .table-result-container {\n",
       "    max-height: 300px;\n",
       "    overflow: auto;\n",
       "  }\n",
       "  table, th, td {\n",
       "    border: 1px solid black;\n",
       "    border-collapse: collapse;\n",
       "  }\n",
       "  th, td {\n",
       "    padding: 5px;\n",
       "  }\n",
       "  th {\n",
       "    text-align: left;\n",
       "  }\n",
       "</style><div class='table-result-container'><table class='table-result'><thead style='background-color: white'><tr><th>account_id</th><th>district_id</th><th>frequency</th><th>date</th></tr></thead><tbody><tr><td>576</td><td>55</td><td>POPLATEK MESICNE</td><td>930101</td></tr><tr><td>3818</td><td>74</td><td>POPLATEK MESICNE</td><td>930101</td></tr><tr><td>704</td><td>55</td><td>POPLATEK MESICNE</td><td>930101</td></tr><tr><td>2378</td><td>16</td><td>POPLATEK MESICNE</td><td>930101</td></tr><tr><td>2632</td><td>24</td><td>POPLATEK MESICNE</td><td>930102</td></tr><tr><td>1972</td><td>77</td><td>POPLATEK MESICNE</td><td>930102</td></tr><tr><td>1539</td><td>1</td><td>POPLATEK PO OBRATU</td><td>930103</td></tr><tr><td>793</td><td>47</td><td>POPLATEK MESICNE</td><td>930103</td></tr><tr><td>2484</td><td>74</td><td>POPLATEK MESICNE</td><td>930103</td></tr><tr><td>1695</td><td>76</td><td>POPLATEK MESICNE</td><td>930103</td></tr></tbody></table></div>"
      ]
     },
     "metadata": {
      "application/vnd.databricks.v1+output": {
       "addedWidgets": {},
       "aggData": [],
       "aggError": "",
       "aggOverflow": false,
       "aggSchema": [],
       "aggSeriesLimitReached": false,
       "aggType": "",
       "arguments": {},
       "columnCustomDisplayInfos": {},
       "data": [
        [
         576,
         55,
         "POPLATEK MESICNE",
         930101
        ],
        [
         3818,
         74,
         "POPLATEK MESICNE",
         930101
        ],
        [
         704,
         55,
         "POPLATEK MESICNE",
         930101
        ],
        [
         2378,
         16,
         "POPLATEK MESICNE",
         930101
        ],
        [
         2632,
         24,
         "POPLATEK MESICNE",
         930102
        ],
        [
         1972,
         77,
         "POPLATEK MESICNE",
         930102
        ],
        [
         1539,
         1,
         "POPLATEK PO OBRATU",
         930103
        ],
        [
         793,
         47,
         "POPLATEK MESICNE",
         930103
        ],
        [
         2484,
         74,
         "POPLATEK MESICNE",
         930103
        ],
        [
         1695,
         76,
         "POPLATEK MESICNE",
         930103
        ]
       ],
       "datasetInfos": [],
       "dbfsResultPath": null,
       "isJsonSchema": true,
       "metadata": {
        "createTempViewForImplicitDf": true,
        "dataframeName": "_sqldf",
        "executionCount": 4
       },
       "overflow": false,
       "plotOptions": {
        "customPlotOptions": {},
        "displayType": "table",
        "pivotAggregation": null,
        "pivotColumns": null,
        "xColumns": null,
        "yColumns": null
       },
       "removedWidgets": [],
       "schema": [
        {
         "metadata": "{}",
         "name": "account_id",
         "type": "\"integer\""
        },
        {
         "metadata": "{}",
         "name": "district_id",
         "type": "\"integer\""
        },
        {
         "metadata": "{}",
         "name": "frequency",
         "type": "\"string\""
        },
        {
         "metadata": "{}",
         "name": "date",
         "type": "\"integer\""
        }
       ],
       "type": "table"
      }
     },
     "output_type": "display_data"
    }
   ],
   "source": [
    "%sql\n",
    "SELECT * FROM default.account\n",
    "LIMIT 10;\n"
   ]
  },
  {
   "cell_type": "code",
   "execution_count": 0,
   "metadata": {
    "application/vnd.databricks.v1+cell": {
     "cellMetadata": {
      "byteLimit": 2048000,
      "implicitDf": true,
      "rowLimit": 10000
     },
     "inputWidgets": {},
     "nuid": "3888eaee-1f4f-4593-a98b-9671daed16e4",
     "showTitle": false,
     "tableResultSettingsMap": {},
     "title": ""
    }
   },
   "outputs": [
    {
     "output_type": "display_data",
     "data": {
      "text/html": [
       "<style scoped>\n",
       "  .table-result-container {\n",
       "    max-height: 300px;\n",
       "    overflow: auto;\n",
       "  }\n",
       "  table, th, td {\n",
       "    border: 1px solid black;\n",
       "    border-collapse: collapse;\n",
       "  }\n",
       "  th, td {\n",
       "    padding: 5px;\n",
       "  }\n",
       "  th {\n",
       "    text-align: left;\n",
       "  }\n",
       "</style><div class='table-result-container'><table class='table-result'><thead style='background-color: white'><tr><th>num_affected_rows</th><th>num_inserted_rows</th></tr></thead><tbody></tbody></table></div>"
      ]
     },
     "metadata": {
      "application/vnd.databricks.v1+output": {
       "addedWidgets": {},
       "aggData": [],
       "aggError": "",
       "aggOverflow": false,
       "aggSchema": [],
       "aggSeriesLimitReached": false,
       "aggType": "",
       "arguments": {},
       "columnCustomDisplayInfos": {},
       "data": [],
       "datasetInfos": [],
       "dbfsResultPath": null,
       "isJsonSchema": true,
       "metadata": {
        "createTempViewForImplicitDf": true,
        "dataframeName": "_sqldf",
        "executionCount": 5
       },
       "overflow": false,
       "plotOptions": {
        "customPlotOptions": {},
        "displayType": "table",
        "pivotAggregation": null,
        "pivotColumns": null,
        "xColumns": null,
        "yColumns": null
       },
       "removedWidgets": [],
       "schema": [
        {
         "metadata": "{}",
         "name": "num_affected_rows",
         "type": "\"long\""
        },
        {
         "metadata": "{}",
         "name": "num_inserted_rows",
         "type": "\"long\""
        }
       ],
       "type": "table"
      }
     },
     "output_type": "display_data"
    }
   ],
   "source": [
    "%sql\n",
    "CREATE TABLE IF NOT EXISTS candidatos_creditosss AS\n",
    "SELECT\n",
    "  cl.client_id,\n",
    "  cl.district_id,\n",
    "  lo.loan_id,\n",
    "  lo.date AS date_loan,\n",
    "  -- Fecha de concesión del préstamo\n",
    "  lo.amount AS loan_amount,\n",
    "  lo.duration AS loan_duration,\n",
    "  lo.payments AS loan_payments,\n",
    "  lo.status AS loan_status,\n",
    "  CASE\n",
    "    WHEN lo.status IN ('A', 'C') THEN 1\n",
    "    ELSE 0\n",
    "  END AS buen_candidato,\n",
    "  ac.account_id,\n",
    "  ac.frequency AS account_frequency,\n",
    "  ac.date AS date_ac,\n",
    "  -- Fecha de creación de la cuenta\n",
    "  di.disp_id,\n",
    "  di.type\n",
    "FROM\n",
    "  client cl\n",
    "  JOIN disp di ON cl.client_id = di.client_id\n",
    "  JOIN account ac ON di.account_id = ac.account_id\n",
    "  JOIN loan lo ON ac.account_id = lo.account_id;"
   ]
  },
  {
   "cell_type": "code",
   "execution_count": 0,
   "metadata": {
    "application/vnd.databricks.v1+cell": {
     "cellMetadata": {
      "byteLimit": 2048000,
      "implicitDf": true,
      "rowLimit": 10000
     },
     "inputWidgets": {},
     "nuid": "61600867-e677-4c47-8d90-5439fceee696",
     "showTitle": false,
     "tableResultSettingsMap": {},
     "title": ""
    }
   },
   "outputs": [
    {
     "output_type": "display_data",
     "data": {
      "text/html": [
       "<style scoped>\n",
       "  .table-result-container {\n",
       "    max-height: 300px;\n",
       "    overflow: auto;\n",
       "  }\n",
       "  table, th, td {\n",
       "    border: 1px solid black;\n",
       "    border-collapse: collapse;\n",
       "  }\n",
       "  th, td {\n",
       "    padding: 5px;\n",
       "  }\n",
       "  th {\n",
       "    text-align: left;\n",
       "  }\n",
       "</style><div class='table-result-container'><table class='table-result'><thead style='background-color: white'><tr><th>col_name</th><th>data_type</th><th>comment</th></tr></thead><tbody><tr><td>client_id</td><td>int</td><td>null</td></tr><tr><td>district_id</td><td>int</td><td>null</td></tr><tr><td>loan_id</td><td>int</td><td>null</td></tr><tr><td>date_loan</td><td>int</td><td>null</td></tr><tr><td>loan_amount</td><td>int</td><td>null</td></tr><tr><td>loan_duration</td><td>int</td><td>null</td></tr><tr><td>loan_payments</td><td>double</td><td>null</td></tr><tr><td>loan_status</td><td>string</td><td>null</td></tr><tr><td>buen_candidato</td><td>int</td><td>null</td></tr><tr><td>account_id</td><td>int</td><td>null</td></tr><tr><td>account_frequency</td><td>string</td><td>null</td></tr><tr><td>date_ac</td><td>int</td><td>null</td></tr><tr><td>disp_id</td><td>int</td><td>null</td></tr><tr><td>type</td><td>string</td><td>null</td></tr></tbody></table></div>"
      ]
     },
     "metadata": {
      "application/vnd.databricks.v1+output": {
       "addedWidgets": {},
       "aggData": [],
       "aggError": "",
       "aggOverflow": false,
       "aggSchema": [],
       "aggSeriesLimitReached": false,
       "aggType": "",
       "arguments": {},
       "columnCustomDisplayInfos": {},
       "data": [
        [
         "client_id",
         "int",
         null
        ],
        [
         "district_id",
         "int",
         null
        ],
        [
         "loan_id",
         "int",
         null
        ],
        [
         "date_loan",
         "int",
         null
        ],
        [
         "loan_amount",
         "int",
         null
        ],
        [
         "loan_duration",
         "int",
         null
        ],
        [
         "loan_payments",
         "double",
         null
        ],
        [
         "loan_status",
         "string",
         null
        ],
        [
         "buen_candidato",
         "int",
         null
        ],
        [
         "account_id",
         "int",
         null
        ],
        [
         "account_frequency",
         "string",
         null
        ],
        [
         "date_ac",
         "int",
         null
        ],
        [
         "disp_id",
         "int",
         null
        ],
        [
         "type",
         "string",
         null
        ]
       ],
       "datasetInfos": [],
       "dbfsResultPath": null,
       "isJsonSchema": true,
       "metadata": {
        "createTempViewForImplicitDf": true,
        "dataframeName": "_sqldf",
        "executionCount": 6
       },
       "overflow": false,
       "plotOptions": {
        "customPlotOptions": {},
        "displayType": "table",
        "pivotAggregation": null,
        "pivotColumns": null,
        "xColumns": null,
        "yColumns": null
       },
       "removedWidgets": [],
       "schema": [
        {
         "metadata": "{\"comment\":\"name of the column\"}",
         "name": "col_name",
         "type": "\"string\""
        },
        {
         "metadata": "{\"comment\":\"data type of the column\"}",
         "name": "data_type",
         "type": "\"string\""
        },
        {
         "metadata": "{\"comment\":\"comment of the column\"}",
         "name": "comment",
         "type": "\"string\""
        }
       ],
       "type": "table"
      }
     },
     "output_type": "display_data"
    }
   ],
   "source": [
    "%sql\n",
    "describe candidatos_creditosss;"
   ]
  },
  {
   "cell_type": "code",
   "execution_count": 0,
   "metadata": {
    "application/vnd.databricks.v1+cell": {
     "cellMetadata": {
      "byteLimit": 2048000,
      "implicitDf": true,
      "rowLimit": 10000
     },
     "inputWidgets": {},
     "nuid": "3065e138-152a-4ade-ac0f-95a9aedde8f5",
     "showTitle": false,
     "tableResultSettingsMap": {},
     "title": ""
    }
   },
   "outputs": [
    {
     "output_type": "display_data",
     "data": {
      "text/html": [
       "<style scoped>\n",
       "  .table-result-container {\n",
       "    max-height: 300px;\n",
       "    overflow: auto;\n",
       "  }\n",
       "  table, th, td {\n",
       "    border: 1px solid black;\n",
       "    border-collapse: collapse;\n",
       "  }\n",
       "  th, td {\n",
       "    padding: 5px;\n",
       "  }\n",
       "  th {\n",
       "    text-align: left;\n",
       "  }\n",
       "</style><div class='table-result-container'><table class='table-result'><thead style='background-color: white'><tr><th>client_id</th><th>district_id</th><th>loan_id</th><th>date_loan</th><th>loan_amount</th><th>loan_duration</th><th>loan_payments</th><th>loan_status</th><th>buen_candidato</th><th>account_id</th><th>account_frequency</th><th>date_ac</th><th>disp_id</th><th>type</th></tr></thead><tbody><tr><td>2</td><td>1</td><td>4959</td><td>940105</td><td>80952</td><td>24</td><td>3373.0</td><td>A</td><td>1</td><td>2</td><td>POPLATEK MESICNE</td><td>930226</td><td>2</td><td>OWNER</td></tr><tr><td>3</td><td>1</td><td>4959</td><td>940105</td><td>80952</td><td>24</td><td>3373.0</td><td>A</td><td>1</td><td>2</td><td>POPLATEK MESICNE</td><td>930226</td><td>3</td><td>DISPONENT</td></tr><tr><td>25</td><td>21</td><td>4961</td><td>960429</td><td>30276</td><td>12</td><td>2523.0</td><td>B</td><td>0</td><td>19</td><td>POPLATEK MESICNE</td><td>950407</td><td>25</td><td>OWNER</td></tr><tr><td>31</td><td>68</td><td>4962</td><td>971208</td><td>30276</td><td>12</td><td>2523.0</td><td>A</td><td>1</td><td>25</td><td>POPLATEK MESICNE</td><td>960728</td><td>31</td><td>OWNER</td></tr><tr><td>45</td><td>20</td><td>4967</td><td>981014</td><td>318480</td><td>60</td><td>5308.0</td><td>D</td><td>0</td><td>37</td><td>POPLATEK MESICNE</td><td>970818</td><td>45</td><td>OWNER</td></tr><tr><td>46</td><td>19</td><td>4968</td><td>980419</td><td>110736</td><td>48</td><td>2307.0</td><td>C</td><td>1</td><td>38</td><td>POPLATEK TYDNE</td><td>970808</td><td>46</td><td>OWNER</td></tr><tr><td>78</td><td>16</td><td>4973</td><td>960502</td><td>165960</td><td>24</td><td>6915.0</td><td>A</td><td>1</td><td>67</td><td>POPLATEK MESICNE</td><td>941019</td><td>78</td><td>OWNER</td></tr><tr><td>116</td><td>74</td><td>4986</td><td>970810</td><td>102876</td><td>12</td><td>8573.0</td><td>A</td><td>1</td><td>97</td><td>POPLATEK MESICNE</td><td>960505</td><td>116</td><td>OWNER</td></tr><tr><td>117</td><td>74</td><td>4986</td><td>970810</td><td>102876</td><td>12</td><td>8573.0</td><td>A</td><td>1</td><td>97</td><td>POPLATEK MESICNE</td><td>960505</td><td>117</td><td>DISPONENT</td></tr><tr><td>124</td><td>44</td><td>4988</td><td>971206</td><td>265320</td><td>36</td><td>7370.0</td><td>D</td><td>0</td><td>103</td><td>POPLATEK MESICNE</td><td>960310</td><td>124</td><td>OWNER</td></tr><tr><td>127</td><td>21</td><td>4989</td><td>981205</td><td>352704</td><td>48</td><td>7348.0</td><td>C</td><td>1</td><td>105</td><td>POPLATEK MESICNE</td><td>970710</td><td>127</td><td>OWNER</td></tr><tr><td>132</td><td>36</td><td>4990</td><td>970908</td><td>162576</td><td>36</td><td>4516.0</td><td>C</td><td>1</td><td>110</td><td>POPLATEK MESICNE</td><td>960717</td><td>132</td><td>OWNER</td></tr><tr><td>158</td><td>40</td><td>4996</td><td>961106</td><td>88440</td><td>12</td><td>7370.0</td><td>A</td><td>1</td><td>132</td><td>POPLATEK PO OBRATU</td><td>960511</td><td>158</td><td>OWNER</td></tr><tr><td>159</td><td>40</td><td>4996</td><td>961106</td><td>88440</td><td>12</td><td>7370.0</td><td>A</td><td>1</td><td>132</td><td>POPLATEK PO OBRATU</td><td>960511</td><td>159</td><td>DISPONENT</td></tr><tr><td>210</td><td>66</td><td>5002</td><td>940531</td><td>104808</td><td>12</td><td>8734.0</td><td>A</td><td>1</td><td>173</td><td>POPLATEK MESICNE</td><td>931126</td><td>210</td><td>OWNER</td></tr><tr><td>211</td><td>66</td><td>5002</td><td>940531</td><td>104808</td><td>12</td><td>8734.0</td><td>A</td><td>1</td><td>173</td><td>POPLATEK MESICNE</td><td>931126</td><td>211</td><td>DISPONENT</td></tr><tr><td>215</td><td>71</td><td>5005</td><td>970410</td><td>27456</td><td>12</td><td>2288.0</td><td>A</td><td>1</td><td>176</td><td>POPLATEK TYDNE</td><td>960812</td><td>215</td><td>OWNER</td></tr><tr><td>272</td><td>70</td><td>5015</td><td>980712</td><td>109344</td><td>12</td><td>9112.0</td><td>C</td><td>1</td><td>226</td><td>POPLATEK MESICNE</td><td>970223</td><td>272</td><td>OWNER</td></tr><tr><td>333</td><td>38</td><td>5027</td><td>981202</td><td>160920</td><td>36</td><td>4470.0</td><td>C</td><td>1</td><td>276</td><td>POPLATEK MESICNE</td><td>971208</td><td>333</td><td>OWNER</td></tr><tr><td>352</td><td>56</td><td>5032</td><td>941103</td><td>123696</td><td>48</td><td>2577.0</td><td>A</td><td>1</td><td>290</td><td>POPLATEK MESICNE</td><td>931202</td><td>352</td><td>OWNER</td></tr><tr><td>370</td><td>71</td><td>5034</td><td>980530</td><td>112752</td><td>36</td><td>3132.0</td><td>C</td><td>1</td><td>303</td><td>POPLATEK MESICNE</td><td>960725</td><td>370</td><td>OWNER</td></tr><tr><td>376</td><td>14</td><td>5036</td><td>981125</td><td>91248</td><td>48</td><td>1901.0</td><td>C</td><td>1</td><td>309</td><td>POPLATEK MESICNE</td><td>970425</td><td>376</td><td>OWNER</td></tr><tr><td>383</td><td>15</td><td>5039</td><td>970503</td><td>66840</td><td>24</td><td>2785.0</td><td>C</td><td>1</td><td>314</td><td>POPLATEK PO OBRATU</td><td>960126</td><td>383</td><td>OWNER</td></tr><tr><td>384</td><td>15</td><td>5039</td><td>970503</td><td>66840</td><td>24</td><td>2785.0</td><td>C</td><td>1</td><td>314</td><td>POPLATEK PO OBRATU</td><td>960126</td><td>384</td><td>DISPONENT</td></tr><tr><td>389</td><td>47</td><td>5041</td><td>970711</td><td>369000</td><td>60</td><td>6150.0</td><td>C</td><td>1</td><td>319</td><td>POPLATEK TYDNE</td><td>951017</td><td>389</td><td>OWNER</td></tr><tr><td>403</td><td>42</td><td>5042</td><td>980712</td><td>331584</td><td>48</td><td>6908.0</td><td>C</td><td>1</td><td>330</td><td>POPLATEK MESICNE</td><td>961124</td><td>403</td><td>OWNER</td></tr><tr><td>404</td><td>42</td><td>5042</td><td>980712</td><td>331584</td><td>48</td><td>6908.0</td><td>C</td><td>1</td><td>330</td><td>POPLATEK MESICNE</td><td>961124</td><td>404</td><td>DISPONENT</td></tr><tr><td>414</td><td>46</td><td>5043</td><td>971225</td><td>468060</td><td>60</td><td>7801.0</td><td>C</td><td>1</td><td>339</td><td>POPLATEK TYDNE</td><td>960911</td><td>414</td><td>OWNER</td></tr><tr><td>415</td><td>46</td><td>5043</td><td>971225</td><td>468060</td><td>60</td><td>7801.0</td><td>C</td><td>1</td><td>339</td><td>POPLATEK TYDNE</td><td>960911</td><td>415</td><td>DISPONENT</td></tr><tr><td>421</td><td>54</td><td>5044</td><td>941221</td><td>100980</td><td>60</td><td>1683.0</td><td>C</td><td>1</td><td>344</td><td>POPLATEK MESICNE</td><td>931201</td><td>421</td><td>OWNER</td></tr><tr><td>424</td><td>1</td><td>5045</td><td>950501</td><td>187224</td><td>24</td><td>7801.0</td><td>B</td><td>0</td><td>347</td><td>POPLATEK MESICNE</td><td>931213</td><td>424</td><td>OWNER</td></tr><tr><td>426</td><td>72</td><td>5046</td><td>980909</td><td>42816</td><td>12</td><td>3568.0</td><td>C</td><td>1</td><td>349</td><td>POPLATEK MESICNE</td><td>970608</td><td>426</td><td>OWNER</td></tr><tr><td>427</td><td>72</td><td>5046</td><td>980909</td><td>42816</td><td>12</td><td>3568.0</td><td>C</td><td>1</td><td>349</td><td>POPLATEK MESICNE</td><td>970608</td><td>427</td><td>DISPONENT</td></tr><tr><td>458</td><td>68</td><td>5051</td><td>971011</td><td>230400</td><td>60</td><td>3840.0</td><td>C</td><td>1</td><td>378</td><td>POPLATEK MESICNE</td><td>960722</td><td>458</td><td>OWNER</td></tr><tr><td>512</td><td>60</td><td>5060</td><td>940719</td><td>252060</td><td>60</td><td>4201.0</td><td>D</td><td>0</td><td>426</td><td>POPLATEK MESICNE</td><td>931129</td><td>512</td><td>OWNER</td></tr><tr><td>530</td><td>29</td><td>5061</td><td>980313</td><td>84288</td><td>48</td><td>1756.0</td><td>C</td><td>1</td><td>440</td><td>POPLATEK MESICNE</td><td>961222</td><td>530</td><td>OWNER</td></tr><tr><td>533</td><td>54</td><td>5063</td><td>970710</td><td>357840</td><td>48</td><td>7455.0</td><td>D</td><td>0</td><td>442</td><td>POPLATEK MESICNE</td><td>970330</td><td>533</td><td>OWNER</td></tr><tr><td>568</td><td>8</td><td>5072</td><td>970428</td><td>196800</td><td>24</td><td>8200.0</td><td>D</td><td>0</td><td>472</td><td>POPLATEK MESICNE</td><td>961011</td><td>568</td><td>OWNER</td></tr><tr><td>603</td><td>13</td><td>5082</td><td>961024</td><td>262980</td><td>60</td><td>4383.0</td><td>C</td><td>1</td><td>501</td><td>POPLATEK MESICNE</td><td>951021</td><td>603</td><td>OWNER</td></tr><tr><td>631</td><td>70</td><td>5086</td><td>970716</td><td>210384</td><td>48</td><td>4383.0</td><td>C</td><td>1</td><td>525</td><td>POPLATEK MESICNE</td><td>960320</td><td>631</td><td>OWNER</td></tr><tr><td>655</td><td>32</td><td>5088</td><td>960822</td><td>91152</td><td>24</td><td>3798.0</td><td>A</td><td>1</td><td>544</td><td>POPLATEK MESICNE</td><td>950515</td><td>655</td><td>OWNER</td></tr><tr><td>798</td><td>27</td><td>5103</td><td>971128</td><td>12540</td><td>12</td><td>1045.0</td><td>A</td><td>1</td><td>666</td><td>POPLATEK MESICNE</td><td>960315</td><td>798</td><td>OWNER</td></tr><tr><td>799</td><td>27</td><td>5103</td><td>971128</td><td>12540</td><td>12</td><td>1045.0</td><td>A</td><td>1</td><td>666</td><td>POPLATEK MESICNE</td><td>960315</td><td>799</td><td>DISPONENT</td></tr><tr><td>810</td><td>58</td><td>5110</td><td>970401</td><td>102240</td><td>60</td><td>1704.0</td><td>C</td><td>1</td><td>675</td><td>POPLATEK MESICNE</td><td>950803</td><td>810</td><td>OWNER</td></tr><tr><td>811</td><td>58</td><td>5110</td><td>970401</td><td>102240</td><td>60</td><td>1704.0</td><td>C</td><td>1</td><td>675</td><td>POPLATEK MESICNE</td><td>950803</td><td>811</td><td>DISPONENT</td></tr><tr><td>861</td><td>1</td><td>5117</td><td>970820</td><td>76944</td><td>12</td><td>6412.0</td><td>A</td><td>1</td><td>718</td><td>POPLATEK MESICNE</td><td>960303</td><td>861</td><td>OWNER</td></tr><tr><td>939</td><td>21</td><td>5124</td><td>980212</td><td>156096</td><td>36</td><td>4336.0</td><td>C</td><td>1</td><td>785</td><td>POPLATEK TYDNE</td><td>970809</td><td>939</td><td>OWNER</td></tr><tr><td>944</td><td>39</td><td>5125</td><td>951123</td><td>73056</td><td>48</td><td>1522.0</td><td>C</td><td>1</td><td>789</td><td>POPLATEK MESICNE</td><td>950206</td><td>944</td><td>OWNER</td></tr><tr><td>945</td><td>39</td><td>5125</td><td>951123</td><td>73056</td><td>48</td><td>1522.0</td><td>C</td><td>1</td><td>789</td><td>POPLATEK MESICNE</td><td>950206</td><td>945</td><td>DISPONENT</td></tr><tr><td>946</td><td>54</td><td>5126</td><td>940724</td><td>208128</td><td>48</td><td>4336.0</td><td>B</td><td>0</td><td>790</td><td>POPLATEK MESICNE</td><td>930511</td><td>946</td><td>OWNER</td></tr><tr><td>968</td><td>69</td><td>5128</td><td>960411</td><td>215616</td><td>48</td><td>4492.0</td><td>D</td><td>0</td><td>808</td><td>POPLATEK MESICNE</td><td>950613</td><td>968</td><td>OWNER</td></tr><tr><td>976</td><td>16</td><td>5130</td><td>940511</td><td>24312</td><td>12</td><td>2026.0</td><td>A</td><td>1</td><td>813</td><td>POPLATEK MESICNE</td><td>930210</td><td>976</td><td>OWNER</td></tr><tr><td>980</td><td>40</td><td>5131</td><td>950108</td><td>48624</td><td>24</td><td>2026.0</td><td>A</td><td>1</td><td>816</td><td>POPLATEK MESICNE</td><td>930805</td><td>980</td><td>OWNER</td></tr><tr><td>981</td><td>5</td><td>5132</td><td>950217</td><td>538500</td><td>60</td><td>8975.0</td><td>C</td><td>1</td><td>817</td><td>POPLATEK MESICNE</td><td>940318</td><td>981</td><td>OWNER</td></tr><tr><td>992</td><td>19</td><td>5134</td><td>970202</td><td>53076</td><td>12</td><td>4423.0</td><td>A</td><td>1</td><td>825</td><td>POPLATEK MESICNE</td><td>960306</td><td>992</td><td>OWNER</td></tr><tr><td>1020</td><td>72</td><td>5136</td><td>960728</td><td>187104</td><td>24</td><td>7796.0</td><td>A</td><td>1</td><td>846</td><td>POPLATEK MESICNE</td><td>960309</td><td>1020</td><td>OWNER</td></tr><tr><td>1029</td><td>1</td><td>5138</td><td>950530</td><td>87216</td><td>48</td><td>1817.0</td><td>C</td><td>1</td><td>854</td><td>POPLATEK MESICNE</td><td>930921</td><td>1029</td><td>OWNER</td></tr><tr><td>1051</td><td>73</td><td>5140</td><td>980224</td><td>178500</td><td>60</td><td>2975.0</td><td>C</td><td>1</td><td>873</td><td>POPLATEK MESICNE</td><td>970426</td><td>1051</td><td>OWNER</td></tr><tr><td>1102</td><td>72</td><td>5145</td><td>950916</td><td>309552</td><td>48</td><td>6449.0</td><td>C</td><td>1</td><td>915</td><td>POPLATEK MESICNE</td><td>950118</td><td>1102</td><td>OWNER</td></tr><tr><td>1130</td><td>70</td><td>5147</td><td>980521</td><td>22260</td><td>60</td><td>371.0</td><td>C</td><td>1</td><td>938</td><td>POPLATEK MESICNE</td><td>971213</td><td>1130</td><td>OWNER</td></tr><tr><td>1133</td><td>37</td><td>5148</td><td>960529</td><td>284280</td><td>60</td><td>4738.0</td><td>C</td><td>1</td><td>940</td><td>POPLATEK MESICNE</td><td>941115</td><td>1133</td><td>OWNER</td></tr><tr><td>1134</td><td>37</td><td>5148</td><td>960529</td><td>284280</td><td>60</td><td>4738.0</td><td>C</td><td>1</td><td>940</td><td>POPLATEK MESICNE</td><td>941115</td><td>1134</td><td>DISPONENT</td></tr><tr><td>1157</td><td>4</td><td>5151</td><td>950524</td><td>189060</td><td>60</td><td>3151.0</td><td>C</td><td>1</td><td>960</td><td>POPLATEK PO OBRATU</td><td>941102</td><td>1157</td><td>OWNER</td></tr><tr><td>1197</td><td>6</td><td>5154</td><td>980701</td><td>108720</td><td>60</td><td>1812.0</td><td>C</td><td>1</td><td>993</td><td>POPLATEK MESICNE</td><td>961114</td><td>1197</td><td>OWNER</td></tr><tr><td>1208</td><td>70</td><td>5158</td><td>980411</td><td>188532</td><td>36</td><td>5237.0</td><td>C</td><td>1</td><td>1004</td><td>POPLATEK MESICNE</td><td>960702</td><td>1208</td><td>OWNER</td></tr><tr><td>1215</td><td>45</td><td>5160</td><td>951218</td><td>204000</td><td>60</td><td>3400.0</td><td>C</td><td>1</td><td>1011</td><td>POPLATEK MESICNE</td><td>941217</td><td>1215</td><td>OWNER</td></tr><tr><td>1216</td><td>65</td><td>5161</td><td>941028</td><td>98184</td><td>24</td><td>4091.0</td><td>A</td><td>1</td><td>1012</td><td>POPLATEK MESICNE</td><td>940709</td><td>1216</td><td>OWNER</td></tr><tr><td>1282</td><td>52</td><td>5169</td><td>980924</td><td>253200</td><td>60</td><td>4220.0</td><td>C</td><td>1</td><td>1068</td><td>POPLATEK MESICNE</td><td>970215</td><td>1282</td><td>OWNER</td></tr><tr><td>1286</td><td>52</td><td>5170</td><td>940120</td><td>253200</td><td>60</td><td>4220.0</td><td>C</td><td>1</td><td>1071</td><td>POPLATEK TYDNE</td><td>930510</td><td>1286</td><td>OWNER</td></tr><tr><td>1300</td><td>45</td><td>5172</td><td>980416</td><td>50976</td><td>36</td><td>1416.0</td><td>C</td><td>1</td><td>1083</td><td>POPLATEK MESICNE</td><td>961206</td><td>1300</td><td>OWNER</td></tr><tr><td>1311</td><td>54</td><td>5174</td><td>970613</td><td>385104</td><td>48</td><td>8023.0</td><td>C</td><td>1</td><td>1093</td><td>POPLATEK MESICNE</td><td>960114</td><td>1311</td><td>OWNER</td></tr><tr><td>1327</td><td>20</td><td>5176</td><td>941112</td><td>192552</td><td>24</td><td>8023.0</td><td>B</td><td>0</td><td>1106</td><td>POPLATEK TYDNE</td><td>930829</td><td>1327</td><td>OWNER</td></tr><tr><td>1404</td><td>11</td><td>5189</td><td>940207</td><td>149040</td><td>48</td><td>3105.0</td><td>A</td><td>1</td><td>1166</td><td>POPLATEK MESICNE</td><td>930421</td><td>1404</td><td>OWNER</td></tr><tr><td>1499</td><td>74</td><td>5206</td><td>970907</td><td>128544</td><td>24</td><td>5356.0</td><td>C</td><td>1</td><td>1242</td><td>POPLATEK PO OBRATU</td><td>961124</td><td>1499</td><td>OWNER</td></tr><tr><td>1501</td><td>68</td><td>5207</td><td>970228</td><td>35904</td><td>48</td><td>748.0</td><td>C</td><td>1</td><td>1244</td><td>POPLATEK MESICNE</td><td>960508</td><td>1501</td><td>OWNER</td></tr><tr><td>1505</td><td>65</td><td>5208</td><td>950316</td><td>99696</td><td>48</td><td>2077.0</td><td>D</td><td>0</td><td>1247</td><td>POPLATEK MESICNE</td><td>930608</td><td>1505</td><td>OWNER</td></tr><tr><td>1509</td><td>62</td><td>5209</td><td>961125</td><td>182640</td><td>48</td><td>3805.0</td><td>C</td><td>1</td><td>1250</td><td>POPLATEK MESICNE</td><td>960328</td><td>1509</td><td>OWNER</td></tr><tr><td>1511</td><td>13</td><td>5210</td><td>970401</td><td>148140</td><td>36</td><td>4115.0</td><td>C</td><td>1</td><td>1252</td><td>POPLATEK TYDNE</td><td>950726</td><td>1511</td><td>OWNER</td></tr><tr><td>1516</td><td>38</td><td>5212</td><td>950529</td><td>71064</td><td>36</td><td>1974.0</td><td>A</td><td>1</td><td>1256</td><td>POPLATEK MESICNE</td><td>940421</td><td>1516</td><td>OWNER</td></tr><tr><td>1533</td><td>55</td><td>5214</td><td>970701</td><td>74772</td><td>36</td><td>2077.0</td><td>C</td><td>1</td><td>1270</td><td>POPLATEK PO OBRATU</td><td>960607</td><td>1533</td><td>OWNER</td></tr><tr><td>1554</td><td>55</td><td>5221</td><td>981205</td><td>52512</td><td>12</td><td>4376.0</td><td>C</td><td>1</td><td>1284</td><td>POPLATEK MESICNE</td><td>970702</td><td>1554</td><td>OWNER</td></tr><tr><td>1594</td><td>56</td><td>5226</td><td>981011</td><td>185544</td><td>36</td><td>5154.0</td><td>C</td><td>1</td><td>1318</td><td>POPLATEK MESICNE</td><td>971222</td><td>1594</td><td>OWNER</td></tr><tr><td>1608</td><td>53</td><td>5229</td><td>970906</td><td>23520</td><td>12</td><td>1960.0</td><td>A</td><td>1</td><td>1329</td><td>POPLATEK MESICNE</td><td>960916</td><td>1608</td><td>OWNER</td></tr><tr><td>1609</td><td>53</td><td>5229</td><td>970906</td><td>23520</td><td>12</td><td>1960.0</td><td>A</td><td>1</td><td>1329</td><td>POPLATEK MESICNE</td><td>960916</td><td>1609</td><td>DISPONENT</td></tr><tr><td>1662</td><td>53</td><td>5236</td><td>970915</td><td>389136</td><td>48</td><td>8107.0</td><td>C</td><td>1</td><td>1374</td><td>POPLATEK MESICNE</td><td>960926</td><td>1662</td><td>OWNER</td></tr><tr><td>1663</td><td>19</td><td>5237</td><td>950829</td><td>45336</td><td>24</td><td>1889.0</td><td>A</td><td>1</td><td>1375</td><td>POPLATEK MESICNE</td><td>940427</td><td>1663</td><td>OWNER</td></tr><tr><td>1681</td><td>34</td><td>5241</td><td>980902</td><td>125472</td><td>24</td><td>5228.0</td><td>C</td><td>1</td><td>1389</td><td>POPLATEK MESICNE</td><td>970805</td><td>1681</td><td>OWNER</td></tr><tr><td>1705</td><td>19</td><td>5245</td><td>980117</td><td>125472</td><td>24</td><td>5228.0</td><td>C</td><td>1</td><td>1407</td><td>POPLATEK PO OBRATU</td><td>970411</td><td>1705</td><td>OWNER</td></tr><tr><td>1706</td><td>19</td><td>5245</td><td>980117</td><td>125472</td><td>24</td><td>5228.0</td><td>C</td><td>1</td><td>1407</td><td>POPLATEK PO OBRATU</td><td>970411</td><td>1706</td><td>DISPONENT</td></tr><tr><td>1755</td><td>65</td><td>5253</td><td>970603</td><td>100080</td><td>48</td><td>2085.0</td><td>C</td><td>1</td><td>1447</td><td>POPLATEK MESICNE</td><td>970220</td><td>1755</td><td>OWNER</td></tr><tr><td>1793</td><td>41</td><td>5260</td><td>980119</td><td>123300</td><td>36</td><td>3425.0</td><td>C</td><td>1</td><td>1480</td><td>POPLATEK TYDNE</td><td>960703</td><td>1793</td><td>OWNER</td></tr><tr><td>1816</td><td>62</td><td>5265</td><td>981007</td><td>165780</td><td>60</td><td>2763.0</td><td>C</td><td>1</td><td>1498</td><td>POPLATEK TYDNE</td><td>970207</td><td>1816</td><td>OWNER</td></tr><tr><td>1851</td><td>31</td><td>5269</td><td>941119</td><td>164052</td><td>36</td><td>4557.0</td><td>B</td><td>0</td><td>1527</td><td>POPLATEK PO OBRATU</td><td>931117</td><td>1851</td><td>OWNER</td></tr><tr><td>1852</td><td>50</td><td>5270</td><td>970721</td><td>191088</td><td>48</td><td>3981.0</td><td>C</td><td>1</td><td>1528</td><td>POPLATEK MESICNE</td><td>960608</td><td>1852</td><td>OWNER</td></tr><tr><td>1913</td><td>69</td><td>5281</td><td>971127</td><td>194256</td><td>24</td><td>8094.0</td><td>C</td><td>1</td><td>1580</td><td>POPLATEK MESICNE</td><td>960108</td><td>1913</td><td>OWNER</td></tr><tr><td>1917</td><td>69</td><td>5282</td><td>960824</td><td>388512</td><td>48</td><td>8094.0</td><td>D</td><td>0</td><td>1583</td><td>POPLATEK PO OBRATU</td><td>941117</td><td>1917</td><td>OWNER</td></tr><tr><td>1944</td><td>31</td><td>5285</td><td>940206</td><td>78936</td><td>12</td><td>6578.0</td><td>A</td><td>1</td><td>1603</td><td>POPLATEK MESICNE</td><td>930509</td><td>1944</td><td>OWNER</td></tr><tr><td>1985</td><td>6</td><td>5287</td><td>980126</td><td>64224</td><td>24</td><td>2676.0</td><td>C</td><td>1</td><td>1638</td><td>POPLATEK TYDNE</td><td>961112</td><td>1985</td><td>OWNER</td></tr><tr><td>1986</td><td>6</td><td>5287</td><td>980126</td><td>64224</td><td>24</td><td>2676.0</td><td>C</td><td>1</td><td>1638</td><td>POPLATEK TYDNE</td><td>961112</td><td>1986</td><td>DISPONENT</td></tr><tr><td>2008</td><td>47</td><td>5293</td><td>981029</td><td>189792</td><td>48</td><td>3954.0</td><td>C</td><td>1</td><td>1656</td><td>POPLATEK MESICNE</td><td>970201</td><td>2008</td><td>OWNER</td></tr></tbody></table></div>"
      ]
     },
     "metadata": {
      "application/vnd.databricks.v1+output": {
       "addedWidgets": {},
       "aggData": [],
       "aggError": "",
       "aggOverflow": false,
       "aggSchema": [],
       "aggSeriesLimitReached": false,
       "aggType": "",
       "arguments": {},
       "columnCustomDisplayInfos": {},
       "data": [
        [
         2,
         1,
         4959,
         940105,
         80952,
         24,
         3373.0,
         "A",
         1,
         2,
         "POPLATEK MESICNE",
         930226,
         2,
         "OWNER"
        ],
        [
         3,
         1,
         4959,
         940105,
         80952,
         24,
         3373.0,
         "A",
         1,
         2,
         "POPLATEK MESICNE",
         930226,
         3,
         "DISPONENT"
        ],
        [
         25,
         21,
         4961,
         960429,
         30276,
         12,
         2523.0,
         "B",
         0,
         19,
         "POPLATEK MESICNE",
         950407,
         25,
         "OWNER"
        ],
        [
         31,
         68,
         4962,
         971208,
         30276,
         12,
         2523.0,
         "A",
         1,
         25,
         "POPLATEK MESICNE",
         960728,
         31,
         "OWNER"
        ],
        [
         45,
         20,
         4967,
         981014,
         318480,
         60,
         5308.0,
         "D",
         0,
         37,
         "POPLATEK MESICNE",
         970818,
         45,
         "OWNER"
        ],
        [
         46,
         19,
         4968,
         980419,
         110736,
         48,
         2307.0,
         "C",
         1,
         38,
         "POPLATEK TYDNE",
         970808,
         46,
         "OWNER"
        ],
        [
         78,
         16,
         4973,
         960502,
         165960,
         24,
         6915.0,
         "A",
         1,
         67,
         "POPLATEK MESICNE",
         941019,
         78,
         "OWNER"
        ],
        [
         116,
         74,
         4986,
         970810,
         102876,
         12,
         8573.0,
         "A",
         1,
         97,
         "POPLATEK MESICNE",
         960505,
         116,
         "OWNER"
        ],
        [
         117,
         74,
         4986,
         970810,
         102876,
         12,
         8573.0,
         "A",
         1,
         97,
         "POPLATEK MESICNE",
         960505,
         117,
         "DISPONENT"
        ],
        [
         124,
         44,
         4988,
         971206,
         265320,
         36,
         7370.0,
         "D",
         0,
         103,
         "POPLATEK MESICNE",
         960310,
         124,
         "OWNER"
        ],
        [
         127,
         21,
         4989,
         981205,
         352704,
         48,
         7348.0,
         "C",
         1,
         105,
         "POPLATEK MESICNE",
         970710,
         127,
         "OWNER"
        ],
        [
         132,
         36,
         4990,
         970908,
         162576,
         36,
         4516.0,
         "C",
         1,
         110,
         "POPLATEK MESICNE",
         960717,
         132,
         "OWNER"
        ],
        [
         158,
         40,
         4996,
         961106,
         88440,
         12,
         7370.0,
         "A",
         1,
         132,
         "POPLATEK PO OBRATU",
         960511,
         158,
         "OWNER"
        ],
        [
         159,
         40,
         4996,
         961106,
         88440,
         12,
         7370.0,
         "A",
         1,
         132,
         "POPLATEK PO OBRATU",
         960511,
         159,
         "DISPONENT"
        ],
        [
         210,
         66,
         5002,
         940531,
         104808,
         12,
         8734.0,
         "A",
         1,
         173,
         "POPLATEK MESICNE",
         931126,
         210,
         "OWNER"
        ],
        [
         211,
         66,
         5002,
         940531,
         104808,
         12,
         8734.0,
         "A",
         1,
         173,
         "POPLATEK MESICNE",
         931126,
         211,
         "DISPONENT"
        ],
        [
         215,
         71,
         5005,
         970410,
         27456,
         12,
         2288.0,
         "A",
         1,
         176,
         "POPLATEK TYDNE",
         960812,
         215,
         "OWNER"
        ],
        [
         272,
         70,
         5015,
         980712,
         109344,
         12,
         9112.0,
         "C",
         1,
         226,
         "POPLATEK MESICNE",
         970223,
         272,
         "OWNER"
        ],
        [
         333,
         38,
         5027,
         981202,
         160920,
         36,
         4470.0,
         "C",
         1,
         276,
         "POPLATEK MESICNE",
         971208,
         333,
         "OWNER"
        ],
        [
         352,
         56,
         5032,
         941103,
         123696,
         48,
         2577.0,
         "A",
         1,
         290,
         "POPLATEK MESICNE",
         931202,
         352,
         "OWNER"
        ],
        [
         370,
         71,
         5034,
         980530,
         112752,
         36,
         3132.0,
         "C",
         1,
         303,
         "POPLATEK MESICNE",
         960725,
         370,
         "OWNER"
        ],
        [
         376,
         14,
         5036,
         981125,
         91248,
         48,
         1901.0,
         "C",
         1,
         309,
         "POPLATEK MESICNE",
         970425,
         376,
         "OWNER"
        ],
        [
         383,
         15,
         5039,
         970503,
         66840,
         24,
         2785.0,
         "C",
         1,
         314,
         "POPLATEK PO OBRATU",
         960126,
         383,
         "OWNER"
        ],
        [
         384,
         15,
         5039,
         970503,
         66840,
         24,
         2785.0,
         "C",
         1,
         314,
         "POPLATEK PO OBRATU",
         960126,
         384,
         "DISPONENT"
        ],
        [
         389,
         47,
         5041,
         970711,
         369000,
         60,
         6150.0,
         "C",
         1,
         319,
         "POPLATEK TYDNE",
         951017,
         389,
         "OWNER"
        ],
        [
         403,
         42,
         5042,
         980712,
         331584,
         48,
         6908.0,
         "C",
         1,
         330,
         "POPLATEK MESICNE",
         961124,
         403,
         "OWNER"
        ],
        [
         404,
         42,
         5042,
         980712,
         331584,
         48,
         6908.0,
         "C",
         1,
         330,
         "POPLATEK MESICNE",
         961124,
         404,
         "DISPONENT"
        ],
        [
         414,
         46,
         5043,
         971225,
         468060,
         60,
         7801.0,
         "C",
         1,
         339,
         "POPLATEK TYDNE",
         960911,
         414,
         "OWNER"
        ],
        [
         415,
         46,
         5043,
         971225,
         468060,
         60,
         7801.0,
         "C",
         1,
         339,
         "POPLATEK TYDNE",
         960911,
         415,
         "DISPONENT"
        ],
        [
         421,
         54,
         5044,
         941221,
         100980,
         60,
         1683.0,
         "C",
         1,
         344,
         "POPLATEK MESICNE",
         931201,
         421,
         "OWNER"
        ],
        [
         424,
         1,
         5045,
         950501,
         187224,
         24,
         7801.0,
         "B",
         0,
         347,
         "POPLATEK MESICNE",
         931213,
         424,
         "OWNER"
        ],
        [
         426,
         72,
         5046,
         980909,
         42816,
         12,
         3568.0,
         "C",
         1,
         349,
         "POPLATEK MESICNE",
         970608,
         426,
         "OWNER"
        ],
        [
         427,
         72,
         5046,
         980909,
         42816,
         12,
         3568.0,
         "C",
         1,
         349,
         "POPLATEK MESICNE",
         970608,
         427,
         "DISPONENT"
        ],
        [
         458,
         68,
         5051,
         971011,
         230400,
         60,
         3840.0,
         "C",
         1,
         378,
         "POPLATEK MESICNE",
         960722,
         458,
         "OWNER"
        ],
        [
         512,
         60,
         5060,
         940719,
         252060,
         60,
         4201.0,
         "D",
         0,
         426,
         "POPLATEK MESICNE",
         931129,
         512,
         "OWNER"
        ],
        [
         530,
         29,
         5061,
         980313,
         84288,
         48,
         1756.0,
         "C",
         1,
         440,
         "POPLATEK MESICNE",
         961222,
         530,
         "OWNER"
        ],
        [
         533,
         54,
         5063,
         970710,
         357840,
         48,
         7455.0,
         "D",
         0,
         442,
         "POPLATEK MESICNE",
         970330,
         533,
         "OWNER"
        ],
        [
         568,
         8,
         5072,
         970428,
         196800,
         24,
         8200.0,
         "D",
         0,
         472,
         "POPLATEK MESICNE",
         961011,
         568,
         "OWNER"
        ],
        [
         603,
         13,
         5082,
         961024,
         262980,
         60,
         4383.0,
         "C",
         1,
         501,
         "POPLATEK MESICNE",
         951021,
         603,
         "OWNER"
        ],
        [
         631,
         70,
         5086,
         970716,
         210384,
         48,
         4383.0,
         "C",
         1,
         525,
         "POPLATEK MESICNE",
         960320,
         631,
         "OWNER"
        ],
        [
         655,
         32,
         5088,
         960822,
         91152,
         24,
         3798.0,
         "A",
         1,
         544,
         "POPLATEK MESICNE",
         950515,
         655,
         "OWNER"
        ],
        [
         798,
         27,
         5103,
         971128,
         12540,
         12,
         1045.0,
         "A",
         1,
         666,
         "POPLATEK MESICNE",
         960315,
         798,
         "OWNER"
        ],
        [
         799,
         27,
         5103,
         971128,
         12540,
         12,
         1045.0,
         "A",
         1,
         666,
         "POPLATEK MESICNE",
         960315,
         799,
         "DISPONENT"
        ],
        [
         810,
         58,
         5110,
         970401,
         102240,
         60,
         1704.0,
         "C",
         1,
         675,
         "POPLATEK MESICNE",
         950803,
         810,
         "OWNER"
        ],
        [
         811,
         58,
         5110,
         970401,
         102240,
         60,
         1704.0,
         "C",
         1,
         675,
         "POPLATEK MESICNE",
         950803,
         811,
         "DISPONENT"
        ],
        [
         861,
         1,
         5117,
         970820,
         76944,
         12,
         6412.0,
         "A",
         1,
         718,
         "POPLATEK MESICNE",
         960303,
         861,
         "OWNER"
        ],
        [
         939,
         21,
         5124,
         980212,
         156096,
         36,
         4336.0,
         "C",
         1,
         785,
         "POPLATEK TYDNE",
         970809,
         939,
         "OWNER"
        ],
        [
         944,
         39,
         5125,
         951123,
         73056,
         48,
         1522.0,
         "C",
         1,
         789,
         "POPLATEK MESICNE",
         950206,
         944,
         "OWNER"
        ],
        [
         945,
         39,
         5125,
         951123,
         73056,
         48,
         1522.0,
         "C",
         1,
         789,
         "POPLATEK MESICNE",
         950206,
         945,
         "DISPONENT"
        ],
        [
         946,
         54,
         5126,
         940724,
         208128,
         48,
         4336.0,
         "B",
         0,
         790,
         "POPLATEK MESICNE",
         930511,
         946,
         "OWNER"
        ],
        [
         968,
         69,
         5128,
         960411,
         215616,
         48,
         4492.0,
         "D",
         0,
         808,
         "POPLATEK MESICNE",
         950613,
         968,
         "OWNER"
        ],
        [
         976,
         16,
         5130,
         940511,
         24312,
         12,
         2026.0,
         "A",
         1,
         813,
         "POPLATEK MESICNE",
         930210,
         976,
         "OWNER"
        ],
        [
         980,
         40,
         5131,
         950108,
         48624,
         24,
         2026.0,
         "A",
         1,
         816,
         "POPLATEK MESICNE",
         930805,
         980,
         "OWNER"
        ],
        [
         981,
         5,
         5132,
         950217,
         538500,
         60,
         8975.0,
         "C",
         1,
         817,
         "POPLATEK MESICNE",
         940318,
         981,
         "OWNER"
        ],
        [
         992,
         19,
         5134,
         970202,
         53076,
         12,
         4423.0,
         "A",
         1,
         825,
         "POPLATEK MESICNE",
         960306,
         992,
         "OWNER"
        ],
        [
         1020,
         72,
         5136,
         960728,
         187104,
         24,
         7796.0,
         "A",
         1,
         846,
         "POPLATEK MESICNE",
         960309,
         1020,
         "OWNER"
        ],
        [
         1029,
         1,
         5138,
         950530,
         87216,
         48,
         1817.0,
         "C",
         1,
         854,
         "POPLATEK MESICNE",
         930921,
         1029,
         "OWNER"
        ],
        [
         1051,
         73,
         5140,
         980224,
         178500,
         60,
         2975.0,
         "C",
         1,
         873,
         "POPLATEK MESICNE",
         970426,
         1051,
         "OWNER"
        ],
        [
         1102,
         72,
         5145,
         950916,
         309552,
         48,
         6449.0,
         "C",
         1,
         915,
         "POPLATEK MESICNE",
         950118,
         1102,
         "OWNER"
        ],
        [
         1130,
         70,
         5147,
         980521,
         22260,
         60,
         371.0,
         "C",
         1,
         938,
         "POPLATEK MESICNE",
         971213,
         1130,
         "OWNER"
        ],
        [
         1133,
         37,
         5148,
         960529,
         284280,
         60,
         4738.0,
         "C",
         1,
         940,
         "POPLATEK MESICNE",
         941115,
         1133,
         "OWNER"
        ],
        [
         1134,
         37,
         5148,
         960529,
         284280,
         60,
         4738.0,
         "C",
         1,
         940,
         "POPLATEK MESICNE",
         941115,
         1134,
         "DISPONENT"
        ],
        [
         1157,
         4,
         5151,
         950524,
         189060,
         60,
         3151.0,
         "C",
         1,
         960,
         "POPLATEK PO OBRATU",
         941102,
         1157,
         "OWNER"
        ],
        [
         1197,
         6,
         5154,
         980701,
         108720,
         60,
         1812.0,
         "C",
         1,
         993,
         "POPLATEK MESICNE",
         961114,
         1197,
         "OWNER"
        ],
        [
         1208,
         70,
         5158,
         980411,
         188532,
         36,
         5237.0,
         "C",
         1,
         1004,
         "POPLATEK MESICNE",
         960702,
         1208,
         "OWNER"
        ],
        [
         1215,
         45,
         5160,
         951218,
         204000,
         60,
         3400.0,
         "C",
         1,
         1011,
         "POPLATEK MESICNE",
         941217,
         1215,
         "OWNER"
        ],
        [
         1216,
         65,
         5161,
         941028,
         98184,
         24,
         4091.0,
         "A",
         1,
         1012,
         "POPLATEK MESICNE",
         940709,
         1216,
         "OWNER"
        ],
        [
         1282,
         52,
         5169,
         980924,
         253200,
         60,
         4220.0,
         "C",
         1,
         1068,
         "POPLATEK MESICNE",
         970215,
         1282,
         "OWNER"
        ],
        [
         1286,
         52,
         5170,
         940120,
         253200,
         60,
         4220.0,
         "C",
         1,
         1071,
         "POPLATEK TYDNE",
         930510,
         1286,
         "OWNER"
        ],
        [
         1300,
         45,
         5172,
         980416,
         50976,
         36,
         1416.0,
         "C",
         1,
         1083,
         "POPLATEK MESICNE",
         961206,
         1300,
         "OWNER"
        ],
        [
         1311,
         54,
         5174,
         970613,
         385104,
         48,
         8023.0,
         "C",
         1,
         1093,
         "POPLATEK MESICNE",
         960114,
         1311,
         "OWNER"
        ],
        [
         1327,
         20,
         5176,
         941112,
         192552,
         24,
         8023.0,
         "B",
         0,
         1106,
         "POPLATEK TYDNE",
         930829,
         1327,
         "OWNER"
        ],
        [
         1404,
         11,
         5189,
         940207,
         149040,
         48,
         3105.0,
         "A",
         1,
         1166,
         "POPLATEK MESICNE",
         930421,
         1404,
         "OWNER"
        ],
        [
         1499,
         74,
         5206,
         970907,
         128544,
         24,
         5356.0,
         "C",
         1,
         1242,
         "POPLATEK PO OBRATU",
         961124,
         1499,
         "OWNER"
        ],
        [
         1501,
         68,
         5207,
         970228,
         35904,
         48,
         748.0,
         "C",
         1,
         1244,
         "POPLATEK MESICNE",
         960508,
         1501,
         "OWNER"
        ],
        [
         1505,
         65,
         5208,
         950316,
         99696,
         48,
         2077.0,
         "D",
         0,
         1247,
         "POPLATEK MESICNE",
         930608,
         1505,
         "OWNER"
        ],
        [
         1509,
         62,
         5209,
         961125,
         182640,
         48,
         3805.0,
         "C",
         1,
         1250,
         "POPLATEK MESICNE",
         960328,
         1509,
         "OWNER"
        ],
        [
         1511,
         13,
         5210,
         970401,
         148140,
         36,
         4115.0,
         "C",
         1,
         1252,
         "POPLATEK TYDNE",
         950726,
         1511,
         "OWNER"
        ],
        [
         1516,
         38,
         5212,
         950529,
         71064,
         36,
         1974.0,
         "A",
         1,
         1256,
         "POPLATEK MESICNE",
         940421,
         1516,
         "OWNER"
        ],
        [
         1533,
         55,
         5214,
         970701,
         74772,
         36,
         2077.0,
         "C",
         1,
         1270,
         "POPLATEK PO OBRATU",
         960607,
         1533,
         "OWNER"
        ],
        [
         1554,
         55,
         5221,
         981205,
         52512,
         12,
         4376.0,
         "C",
         1,
         1284,
         "POPLATEK MESICNE",
         970702,
         1554,
         "OWNER"
        ],
        [
         1594,
         56,
         5226,
         981011,
         185544,
         36,
         5154.0,
         "C",
         1,
         1318,
         "POPLATEK MESICNE",
         971222,
         1594,
         "OWNER"
        ],
        [
         1608,
         53,
         5229,
         970906,
         23520,
         12,
         1960.0,
         "A",
         1,
         1329,
         "POPLATEK MESICNE",
         960916,
         1608,
         "OWNER"
        ],
        [
         1609,
         53,
         5229,
         970906,
         23520,
         12,
         1960.0,
         "A",
         1,
         1329,
         "POPLATEK MESICNE",
         960916,
         1609,
         "DISPONENT"
        ],
        [
         1662,
         53,
         5236,
         970915,
         389136,
         48,
         8107.0,
         "C",
         1,
         1374,
         "POPLATEK MESICNE",
         960926,
         1662,
         "OWNER"
        ],
        [
         1663,
         19,
         5237,
         950829,
         45336,
         24,
         1889.0,
         "A",
         1,
         1375,
         "POPLATEK MESICNE",
         940427,
         1663,
         "OWNER"
        ],
        [
         1681,
         34,
         5241,
         980902,
         125472,
         24,
         5228.0,
         "C",
         1,
         1389,
         "POPLATEK MESICNE",
         970805,
         1681,
         "OWNER"
        ],
        [
         1705,
         19,
         5245,
         980117,
         125472,
         24,
         5228.0,
         "C",
         1,
         1407,
         "POPLATEK PO OBRATU",
         970411,
         1705,
         "OWNER"
        ],
        [
         1706,
         19,
         5245,
         980117,
         125472,
         24,
         5228.0,
         "C",
         1,
         1407,
         "POPLATEK PO OBRATU",
         970411,
         1706,
         "DISPONENT"
        ],
        [
         1755,
         65,
         5253,
         970603,
         100080,
         48,
         2085.0,
         "C",
         1,
         1447,
         "POPLATEK MESICNE",
         970220,
         1755,
         "OWNER"
        ],
        [
         1793,
         41,
         5260,
         980119,
         123300,
         36,
         3425.0,
         "C",
         1,
         1480,
         "POPLATEK TYDNE",
         960703,
         1793,
         "OWNER"
        ],
        [
         1816,
         62,
         5265,
         981007,
         165780,
         60,
         2763.0,
         "C",
         1,
         1498,
         "POPLATEK TYDNE",
         970207,
         1816,
         "OWNER"
        ],
        [
         1851,
         31,
         5269,
         941119,
         164052,
         36,
         4557.0,
         "B",
         0,
         1527,
         "POPLATEK PO OBRATU",
         931117,
         1851,
         "OWNER"
        ],
        [
         1852,
         50,
         5270,
         970721,
         191088,
         48,
         3981.0,
         "C",
         1,
         1528,
         "POPLATEK MESICNE",
         960608,
         1852,
         "OWNER"
        ],
        [
         1913,
         69,
         5281,
         971127,
         194256,
         24,
         8094.0,
         "C",
         1,
         1580,
         "POPLATEK MESICNE",
         960108,
         1913,
         "OWNER"
        ],
        [
         1917,
         69,
         5282,
         960824,
         388512,
         48,
         8094.0,
         "D",
         0,
         1583,
         "POPLATEK PO OBRATU",
         941117,
         1917,
         "OWNER"
        ],
        [
         1944,
         31,
         5285,
         940206,
         78936,
         12,
         6578.0,
         "A",
         1,
         1603,
         "POPLATEK MESICNE",
         930509,
         1944,
         "OWNER"
        ],
        [
         1985,
         6,
         5287,
         980126,
         64224,
         24,
         2676.0,
         "C",
         1,
         1638,
         "POPLATEK TYDNE",
         961112,
         1985,
         "OWNER"
        ],
        [
         1986,
         6,
         5287,
         980126,
         64224,
         24,
         2676.0,
         "C",
         1,
         1638,
         "POPLATEK TYDNE",
         961112,
         1986,
         "DISPONENT"
        ],
        [
         2008,
         47,
         5293,
         981029,
         189792,
         48,
         3954.0,
         "C",
         1,
         1656,
         "POPLATEK MESICNE",
         970201,
         2008,
         "OWNER"
        ]
       ],
       "datasetInfos": [],
       "dbfsResultPath": null,
       "isJsonSchema": true,
       "metadata": {
        "createTempViewForImplicitDf": true,
        "dataframeName": "_sqldf",
        "executionCount": 7
       },
       "overflow": false,
       "plotOptions": {
        "customPlotOptions": {},
        "displayType": "table",
        "pivotAggregation": null,
        "pivotColumns": null,
        "xColumns": null,
        "yColumns": null
       },
       "removedWidgets": [],
       "schema": [
        {
         "metadata": "{}",
         "name": "client_id",
         "type": "\"integer\""
        },
        {
         "metadata": "{}",
         "name": "district_id",
         "type": "\"integer\""
        },
        {
         "metadata": "{}",
         "name": "loan_id",
         "type": "\"integer\""
        },
        {
         "metadata": "{}",
         "name": "date_loan",
         "type": "\"integer\""
        },
        {
         "metadata": "{}",
         "name": "loan_amount",
         "type": "\"integer\""
        },
        {
         "metadata": "{}",
         "name": "loan_duration",
         "type": "\"integer\""
        },
        {
         "metadata": "{}",
         "name": "loan_payments",
         "type": "\"double\""
        },
        {
         "metadata": "{}",
         "name": "loan_status",
         "type": "\"string\""
        },
        {
         "metadata": "{}",
         "name": "buen_candidato",
         "type": "\"integer\""
        },
        {
         "metadata": "{}",
         "name": "account_id",
         "type": "\"integer\""
        },
        {
         "metadata": "{}",
         "name": "account_frequency",
         "type": "\"string\""
        },
        {
         "metadata": "{}",
         "name": "date_ac",
         "type": "\"integer\""
        },
        {
         "metadata": "{}",
         "name": "disp_id",
         "type": "\"integer\""
        },
        {
         "metadata": "{}",
         "name": "type",
         "type": "\"string\""
        }
       ],
       "type": "table"
      }
     },
     "output_type": "display_data"
    }
   ],
   "source": [
    "%sql\n",
    "SELECT * FROM candidatos_creditosss LIMIT 100;"
   ]
  },
  {
   "cell_type": "code",
   "execution_count": 0,
   "metadata": {
    "application/vnd.databricks.v1+cell": {
     "cellMetadata": {
      "byteLimit": 2048000,
      "rowLimit": 10000
     },
     "inputWidgets": {},
     "nuid": "96ade304-7874-491a-a5ba-73800c623666",
     "showTitle": false,
     "tableResultSettingsMap": {},
     "title": ""
    }
   },
   "outputs": [
    {
     "output_type": "stream",
     "name": "stdout",
     "output_type": "stream",
     "text": [
      "+---------+-----------+-------+---------+-----------+-------------+-------------+-----------+--------------+----------+-----------------+-------+-------+---------+\n|client_id|district_id|loan_id|date_loan|loan_amount|loan_duration|loan_payments|loan_status|buen_candidato|account_id|account_frequency|date_ac|disp_id|     type|\n+---------+-----------+-------+---------+-----------+-------------+-------------+-----------+--------------+----------+-----------------+-------+-------+---------+\n|        2|          1|   4959|   940105|      80952|           24|       3373.0|          A|             1|         2| POPLATEK MESICNE| 930226|      2|    OWNER|\n|        3|          1|   4959|   940105|      80952|           24|       3373.0|          A|             1|         2| POPLATEK MESICNE| 930226|      3|DISPONENT|\n|       25|         21|   4961|   960429|      30276|           12|       2523.0|          B|             0|        19| POPLATEK MESICNE| 950407|     25|    OWNER|\n|       31|         68|   4962|   971208|      30276|           12|       2523.0|          A|             1|        25| POPLATEK MESICNE| 960728|     31|    OWNER|\n|       45|         20|   4967|   981014|     318480|           60|       5308.0|          D|             0|        37| POPLATEK MESICNE| 970818|     45|    OWNER|\n+---------+-----------+-------+---------+-----------+-------------+-------------+-----------+--------------+----------+-----------------+-------+-------+---------+\nonly showing top 5 rows\n\n"
     ]
    }
   ],
   "source": [
    "# Cargar la tabla como un DataFrame\n",
    "df = spark.sql(\"SELECT * FROM default.candidatos_creditosss\")\n",
    "\n",
    "# Mostrar las primeras filas\n",
    "df.show(5)\n"
   ]
  },
  {
   "cell_type": "code",
   "execution_count": 0,
   "metadata": {
    "application/vnd.databricks.v1+cell": {
     "cellMetadata": {
      "byteLimit": 2048000,
      "rowLimit": 10000
     },
     "inputWidgets": {},
     "nuid": "5e8278b4-9447-4939-b497-05aee0d7d40d",
     "showTitle": false,
     "tableResultSettingsMap": {},
     "title": ""
    }
   },
   "outputs": [
    {
     "output_type": "stream",
     "name": "stdout",
     "output_type": "stream",
     "text": [
      "+---------+-----------+-------+---------+-----------+-------------+-------------+-----------+--------------+----------+-----------------+-------+-------+----+\n|client_id|district_id|loan_id|date_loan|loan_amount|loan_duration|loan_payments|loan_status|buen_candidato|account_id|account_frequency|date_ac|disp_id|type|\n+---------+-----------+-------+---------+-----------+-------------+-------------+-----------+--------------+----------+-----------------+-------+-------+----+\n|        0|          0|      0|        0|          0|            0|            0|          0|             0|         0|                0|      0|      0|   0|\n+---------+-----------+-------+---------+-----------+-------------+-------------+-----------+--------------+----------+-----------------+-------+-------+----+\n\n"
     ]
    }
   ],
   "source": [
    "from pyspark.sql.functions import col, count, when\n",
    "\n",
    "# Contar valores nulos o vacíos por columna\n",
    "df.select([count(when(col(c).isNull() | (col(c) == ''), c)).alias(c) for c in df.columns]).show()\n"
   ]
  },
  {
   "cell_type": "code",
   "execution_count": 0,
   "metadata": {
    "application/vnd.databricks.v1+cell": {
     "cellMetadata": {
      "byteLimit": 2048000,
      "rowLimit": 10000
     },
     "inputWidgets": {},
     "nuid": "a3481797-28cb-40aa-8122-c5793b7e04f8",
     "showTitle": false,
     "tableResultSettingsMap": {},
     "title": ""
    }
   },
   "outputs": [
    {
     "output_type": "stream",
     "name": "stdout",
     "output_type": "stream",
     "text": [
      "+---------+-----------+-------+---------+-----------+-------------+-------------+-----------+--------------+----------+-----------------+-------+-------+---------+\n|client_id|district_id|loan_id|date_loan|loan_amount|loan_duration|loan_payments|loan_status|buen_candidato|account_id|account_frequency|date_ac|disp_id|     type|\n+---------+-----------+-------+---------+-----------+-------------+-------------+-----------+--------------+----------+-----------------+-------+-------+---------+\n|        2|          1|   4959|   940105|      80952|           24|       3373.0|          A|             1|         2| POPLATEK MESICNE| 930226|      2|    OWNER|\n|        3|          1|   4959|   940105|      80952|           24|       3373.0|          A|             1|         2| POPLATEK MESICNE| 930226|      3|DISPONENT|\n|       25|         21|   4961|   960429|      30276|           12|       2523.0|          B|             0|        19| POPLATEK MESICNE| 950407|     25|    OWNER|\n|       31|         68|   4962|   971208|      30276|           12|       2523.0|          A|             1|        25| POPLATEK MESICNE| 960728|     31|    OWNER|\n|       45|         20|   4967|   981014|     318480|           60|       5308.0|          D|             0|        37| POPLATEK MESICNE| 970818|     45|    OWNER|\n+---------+-----------+-------+---------+-----------+-------------+-------------+-----------+--------------+----------+-----------------+-------+-------+---------+\nonly showing top 5 rows\n\n"
     ]
    }
   ],
   "source": [
    "df.show(5);"
   ]
  },
  {
   "cell_type": "markdown",
   "metadata": {
    "application/vnd.databricks.v1+cell": {
     "cellMetadata": {
      "byteLimit": 2048000,
      "rowLimit": 10000
     },
     "inputWidgets": {},
     "nuid": "ee21e5f2-2976-4180-b47a-06c017c19ea3",
     "showTitle": false,
     "tableResultSettingsMap": {},
     "title": ""
    }
   },
   "source": [
    "## **Analisis** univariado"
   ]
  },
  {
   "cell_type": "code",
   "execution_count": 0,
   "metadata": {
    "application/vnd.databricks.v1+cell": {
     "cellMetadata": {
      "byteLimit": 2048000,
      "implicitDf": true,
      "rowLimit": 10000
     },
     "inputWidgets": {},
     "nuid": "8d26c7ae-7664-4029-8a25-3a0366915536",
     "showTitle": false,
     "tableResultSettingsMap": {},
     "title": ""
    }
   },
   "outputs": [
    {
     "output_type": "display_data",
     "data": {
      "text/html": [
       "<style scoped>\n",
       "  .table-result-container {\n",
       "    max-height: 300px;\n",
       "    overflow: auto;\n",
       "  }\n",
       "  table, th, td {\n",
       "    border: 1px solid black;\n",
       "    border-collapse: collapse;\n",
       "  }\n",
       "  th, td {\n",
       "    padding: 5px;\n",
       "  }\n",
       "  th {\n",
       "    text-align: left;\n",
       "  }\n",
       "</style><div class='table-result-container'><table class='table-result'><thead style='background-color: white'><tr><th>col_name</th><th>data_type</th><th>comment</th></tr></thead><tbody><tr><td>account_id</td><td>int</td><td>null</td></tr><tr><td>district_id</td><td>int</td><td>null</td></tr><tr><td>frequency</td><td>string</td><td>null</td></tr><tr><td>date</td><td>int</td><td>null</td></tr></tbody></table></div>"
      ]
     },
     "metadata": {
      "application/vnd.databricks.v1+output": {
       "addedWidgets": {},
       "aggData": [],
       "aggError": "",
       "aggOverflow": false,
       "aggSchema": [],
       "aggSeriesLimitReached": false,
       "aggType": "",
       "arguments": {},
       "columnCustomDisplayInfos": {},
       "data": [
        [
         "account_id",
         "int",
         null
        ],
        [
         "district_id",
         "int",
         null
        ],
        [
         "frequency",
         "string",
         null
        ],
        [
         "date",
         "int",
         null
        ]
       ],
       "datasetInfos": [],
       "dbfsResultPath": null,
       "isJsonSchema": true,
       "metadata": {
        "createTempViewForImplicitDf": true,
        "dataframeName": "_sqldf",
        "executionCount": 12
       },
       "overflow": false,
       "plotOptions": {
        "customPlotOptions": {},
        "displayType": "table",
        "pivotAggregation": null,
        "pivotColumns": null,
        "xColumns": null,
        "yColumns": null
       },
       "removedWidgets": [],
       "schema": [
        {
         "metadata": "{\"comment\":\"name of the column\"}",
         "name": "col_name",
         "type": "\"string\""
        },
        {
         "metadata": "{\"comment\":\"data type of the column\"}",
         "name": "data_type",
         "type": "\"string\""
        },
        {
         "metadata": "{\"comment\":\"comment of the column\"}",
         "name": "comment",
         "type": "\"string\""
        }
       ],
       "type": "table"
      }
     },
     "output_type": "display_data"
    }
   ],
   "source": [
    "%sql\n",
    "describe account"
   ]
  },
  {
   "cell_type": "code",
   "execution_count": 0,
   "metadata": {
    "application/vnd.databricks.v1+cell": {
     "cellMetadata": {
      "byteLimit": 2048000,
      "implicitDf": true,
      "rowLimit": 10000
     },
     "inputWidgets": {},
     "nuid": "4cb859c4-47d7-4edc-80b0-42f2ee7aef02",
     "showTitle": false,
     "tableResultSettingsMap": {},
     "title": ""
    }
   },
   "outputs": [
    {
     "output_type": "display_data",
     "data": {
      "text/html": [
       "<style scoped>\n",
       "  .table-result-container {\n",
       "    max-height: 300px;\n",
       "    overflow: auto;\n",
       "  }\n",
       "  table, th, td {\n",
       "    border: 1px solid black;\n",
       "    border-collapse: collapse;\n",
       "  }\n",
       "  th, td {\n",
       "    padding: 5px;\n",
       "  }\n",
       "  th {\n",
       "    text-align: left;\n",
       "  }\n",
       "</style><div class='table-result-container'><table class='table-result'><thead style='background-color: white'><tr><th>col_name</th><th>data_type</th><th>comment</th></tr></thead><tbody><tr><td>client_id</td><td>int</td><td>null</td></tr><tr><td>birth_number</td><td>int</td><td>null</td></tr><tr><td>district_id</td><td>int</td><td>null</td></tr></tbody></table></div>"
      ]
     },
     "metadata": {
      "application/vnd.databricks.v1+output": {
       "addedWidgets": {},
       "aggData": [],
       "aggError": "",
       "aggOverflow": false,
       "aggSchema": [],
       "aggSeriesLimitReached": false,
       "aggType": "",
       "arguments": {},
       "columnCustomDisplayInfos": {},
       "data": [
        [
         "client_id",
         "int",
         null
        ],
        [
         "birth_number",
         "int",
         null
        ],
        [
         "district_id",
         "int",
         null
        ]
       ],
       "datasetInfos": [],
       "dbfsResultPath": null,
       "isJsonSchema": true,
       "metadata": {
        "createTempViewForImplicitDf": true,
        "dataframeName": "_sqldf",
        "executionCount": 13
       },
       "overflow": false,
       "plotOptions": {
        "customPlotOptions": {},
        "displayType": "table",
        "pivotAggregation": null,
        "pivotColumns": null,
        "xColumns": null,
        "yColumns": null
       },
       "removedWidgets": [],
       "schema": [
        {
         "metadata": "{\"comment\":\"name of the column\"}",
         "name": "col_name",
         "type": "\"string\""
        },
        {
         "metadata": "{\"comment\":\"data type of the column\"}",
         "name": "data_type",
         "type": "\"string\""
        },
        {
         "metadata": "{\"comment\":\"comment of the column\"}",
         "name": "comment",
         "type": "\"string\""
        }
       ],
       "type": "table"
      }
     },
     "output_type": "display_data"
    }
   ],
   "source": [
    "%sql\n",
    "describe client"
   ]
  },
  {
   "cell_type": "code",
   "execution_count": 0,
   "metadata": {
    "application/vnd.databricks.v1+cell": {
     "cellMetadata": {
      "byteLimit": 2048000,
      "implicitDf": true,
      "rowLimit": 10000
     },
     "inputWidgets": {},
     "nuid": "3f802673-f41e-4bb1-aef9-32eeabc99e49",
     "showTitle": false,
     "tableResultSettingsMap": {},
     "title": ""
    }
   },
   "outputs": [
    {
     "output_type": "display_data",
     "data": {
      "text/html": [
       "<style scoped>\n",
       "  .table-result-container {\n",
       "    max-height: 300px;\n",
       "    overflow: auto;\n",
       "  }\n",
       "  table, th, td {\n",
       "    border: 1px solid black;\n",
       "    border-collapse: collapse;\n",
       "  }\n",
       "  th, td {\n",
       "    padding: 5px;\n",
       "  }\n",
       "  th {\n",
       "    text-align: left;\n",
       "  }\n",
       "</style><div class='table-result-container'><table class='table-result'><thead style='background-color: white'><tr><th>col_name</th><th>data_type</th><th>comment</th></tr></thead><tbody><tr><td>disp_id</td><td>int</td><td>null</td></tr><tr><td>client_id</td><td>int</td><td>null</td></tr><tr><td>account_id</td><td>int</td><td>null</td></tr><tr><td>type</td><td>string</td><td>null</td></tr></tbody></table></div>"
      ]
     },
     "metadata": {
      "application/vnd.databricks.v1+output": {
       "addedWidgets": {},
       "aggData": [],
       "aggError": "",
       "aggOverflow": false,
       "aggSchema": [],
       "aggSeriesLimitReached": false,
       "aggType": "",
       "arguments": {},
       "columnCustomDisplayInfos": {},
       "data": [
        [
         "disp_id",
         "int",
         null
        ],
        [
         "client_id",
         "int",
         null
        ],
        [
         "account_id",
         "int",
         null
        ],
        [
         "type",
         "string",
         null
        ]
       ],
       "datasetInfos": [],
       "dbfsResultPath": null,
       "isJsonSchema": true,
       "metadata": {
        "createTempViewForImplicitDf": true,
        "dataframeName": "_sqldf",
        "executionCount": 14
       },
       "overflow": false,
       "plotOptions": {
        "customPlotOptions": {},
        "displayType": "table",
        "pivotAggregation": null,
        "pivotColumns": null,
        "xColumns": null,
        "yColumns": null
       },
       "removedWidgets": [],
       "schema": [
        {
         "metadata": "{\"comment\":\"name of the column\"}",
         "name": "col_name",
         "type": "\"string\""
        },
        {
         "metadata": "{\"comment\":\"data type of the column\"}",
         "name": "data_type",
         "type": "\"string\""
        },
        {
         "metadata": "{\"comment\":\"comment of the column\"}",
         "name": "comment",
         "type": "\"string\""
        }
       ],
       "type": "table"
      }
     },
     "output_type": "display_data"
    }
   ],
   "source": [
    "%sql\n",
    "describe disp"
   ]
  },
  {
   "cell_type": "code",
   "execution_count": 0,
   "metadata": {
    "application/vnd.databricks.v1+cell": {
     "cellMetadata": {
      "byteLimit": 2048000,
      "implicitDf": true,
      "rowLimit": 10000
     },
     "inputWidgets": {},
     "nuid": "ad375e13-78a3-4cd2-8b01-3a7b0abc04cd",
     "showTitle": false,
     "tableResultSettingsMap": {},
     "title": ""
    }
   },
   "outputs": [
    {
     "output_type": "display_data",
     "data": {
      "text/html": [
       "<style scoped>\n",
       "  .table-result-container {\n",
       "    max-height: 300px;\n",
       "    overflow: auto;\n",
       "  }\n",
       "  table, th, td {\n",
       "    border: 1px solid black;\n",
       "    border-collapse: collapse;\n",
       "  }\n",
       "  th, td {\n",
       "    padding: 5px;\n",
       "  }\n",
       "  th {\n",
       "    text-align: left;\n",
       "  }\n",
       "</style><div class='table-result-container'><table class='table-result'><thead style='background-color: white'><tr><th>col_name</th><th>data_type</th><th>comment</th></tr></thead><tbody><tr><td>loan_id</td><td>int</td><td>null</td></tr><tr><td>account_id</td><td>int</td><td>null</td></tr><tr><td>date</td><td>int</td><td>null</td></tr><tr><td>amount</td><td>int</td><td>null</td></tr><tr><td>duration</td><td>int</td><td>null</td></tr><tr><td>payments</td><td>double</td><td>null</td></tr><tr><td>status</td><td>string</td><td>null</td></tr></tbody></table></div>"
      ]
     },
     "metadata": {
      "application/vnd.databricks.v1+output": {
       "addedWidgets": {},
       "aggData": [],
       "aggError": "",
       "aggOverflow": false,
       "aggSchema": [],
       "aggSeriesLimitReached": false,
       "aggType": "",
       "arguments": {},
       "columnCustomDisplayInfos": {},
       "data": [
        [
         "loan_id",
         "int",
         null
        ],
        [
         "account_id",
         "int",
         null
        ],
        [
         "date",
         "int",
         null
        ],
        [
         "amount",
         "int",
         null
        ],
        [
         "duration",
         "int",
         null
        ],
        [
         "payments",
         "double",
         null
        ],
        [
         "status",
         "string",
         null
        ]
       ],
       "datasetInfos": [],
       "dbfsResultPath": null,
       "isJsonSchema": true,
       "metadata": {
        "createTempViewForImplicitDf": true,
        "dataframeName": "_sqldf",
        "executionCount": 15
       },
       "overflow": false,
       "plotOptions": {
        "customPlotOptions": {},
        "displayType": "table",
        "pivotAggregation": null,
        "pivotColumns": null,
        "xColumns": null,
        "yColumns": null
       },
       "removedWidgets": [],
       "schema": [
        {
         "metadata": "{\"comment\":\"name of the column\"}",
         "name": "col_name",
         "type": "\"string\""
        },
        {
         "metadata": "{\"comment\":\"data type of the column\"}",
         "name": "data_type",
         "type": "\"string\""
        },
        {
         "metadata": "{\"comment\":\"comment of the column\"}",
         "name": "comment",
         "type": "\"string\""
        }
       ],
       "type": "table"
      }
     },
     "output_type": "display_data"
    }
   ],
   "source": [
    "%sql\n",
    "describe loan"
   ]
  },
  {
   "cell_type": "markdown",
   "metadata": {
    "application/vnd.databricks.v1+cell": {
     "cellMetadata": {},
     "inputWidgets": {},
     "nuid": "f0b5cabe-7bbc-49d3-ac74-c0aedc91beb6",
     "showTitle": false,
     "tableResultSettingsMap": {},
     "title": ""
    }
   },
   "source": [
    "### media , moda , mediana"
   ]
  },
  {
   "cell_type": "code",
   "execution_count": 0,
   "metadata": {
    "application/vnd.databricks.v1+cell": {
     "cellMetadata": {
      "byteLimit": 2048000,
      "rowLimit": 10000
     },
     "inputWidgets": {},
     "nuid": "afc725fd-1688-4702-8bc7-b91fdd845bae",
     "showTitle": false,
     "tableResultSettingsMap": {},
     "title": ""
    }
   },
   "outputs": [
    {
     "output_type": "stream",
     "name": "stdout",
     "output_type": "stream",
     "text": [
      "Columna: date_loan - Media: 962950.1644498187, Mediana: 970121.0, Moda: 951212\nColumna: date_ac - Media: 952186.3966142684, Mediana: 960119.0, Moda: 951109\nColumna: loan_amount - Media: 151801.53808948005, Mediana: 113436.0, Moda: 192744\nColumna: loan_duration - Media: 36.26118500604595, Mediana: 36.0, Moda: 60\nColumna: loan_payments - Media: 4231.251511487303, Mediana: 3883.0, Moda: 7370.0\n"
     ]
    }
   ],
   "source": [
    "from pyspark.sql import functions as F\n",
    "# variables de interes\n",
    "columns_of_interest = ['date_loan','date_ac', 'loan_amount', 'loan_duration', 'loan_payments']\n",
    "# Crear una lista para almacenar resultados\n",
    "stats_results = []\n",
    "# Iterar sobre cada columna de interés\n",
    "for column in columns_of_interest:\n",
    "    # Calcular estadísticas (media, mediana y moda) si existe en el DataFrame\n",
    "    if column in df.columns:\n",
    "        mean_value = df.agg(F.mean(column).alias(\"mean\")).collect()[0][\"mean\"]\n",
    "        median_value = (\n",
    "            df.approxQuantile(column, [0.5], 0.01)[0]  # Mediana usando percentil\n",
    "        )\n",
    "        mode_value = (\n",
    "            df.groupBy(column).count()\n",
    "            .orderBy(F.desc(\"count\"))\n",
    "            .first()[0]  # Ordenar por frecuencia para obtener la moda\n",
    "        )\n",
    "        # Guardar los resultados para la columna\n",
    "        stats_results.append(\n",
    "            {\n",
    "                \"Column\": column,\n",
    "                \"Mean\": mean_value,\n",
    "                \"Median\": median_value,\n",
    "                \"Mode\": mode_value,\n",
    "            }\n",
    "        )\n",
    "    else:\n",
    "        print(f\"La columna '{column}' no se encuentra en el DataFrame.\")\n",
    "# resultados\n",
    "for result in stats_results:\n",
    "    print(\n",
    "        f\"Columna: {result['Column']} - Media: {result['Mean']}, \"\n",
    "        f\"Mediana: {result['Median']}, Moda: {result['Mode']}\"\n",
    "    )\n"
   ]
  },
  {
   "cell_type": "markdown",
   "metadata": {
    "application/vnd.databricks.v1+cell": {
     "cellMetadata": {},
     "inputWidgets": {},
     "nuid": "f95a37ad-e542-4f75-9972-05cac4ac3d05",
     "showTitle": false,
     "tableResultSettingsMap": {},
     "title": ""
    }
   },
   "source": [
    "### Mediadas de dispersion "
   ]
  },
  {
   "cell_type": "code",
   "execution_count": 0,
   "metadata": {
    "application/vnd.databricks.v1+cell": {
     "cellMetadata": {
      "byteLimit": 2048000,
      "rowLimit": 10000
     },
     "inputWidgets": {},
     "nuid": "cf7b4625-93ac-4767-baa0-ead653eed90a",
     "showTitle": false,
     "tableResultSettingsMap": {},
     "title": ""
    }
   },
   "outputs": [
    {
     "output_type": "stream",
     "name": "stdout",
     "output_type": "stream",
     "text": [
      "De 'date_ac':\n- Máximo: 971222\n- Mínimo: 930113\n- Rango: 41109\n- Percentil 25 (Q1): 940522.0\n- Percentil 50 (Q2/Mediana): 960119.0\n- Percentil 75 (Q3): 961011.0\n- Varianza: 200034534.39940646\n- Desviación estándar: 14143.35654642866\n________________________\nDe 'date_loan':\n- Máximo: 981208\n- Mínimo: 930705\n- Rango: 50503\n- Percentil 25 (Q1): 950703.0\n- Percentil 50 (Q2/Mediana): 970121.0\n- Percentil 75 (Q3): 971208.0\n- Varianza: 211585443.3845452\n- Desviación estándar: 14545.976879692378\n________________________\nDe 'loan_amount':\n- Máximo: 590820\n- Mínimo: 4980\n- Rango: 585840\n- Percentil 25 (Q1): 67464.0\n- Percentil 50 (Q2/Mediana): 113436.0\n- Percentil 75 (Q3): 208320.0\n- Varianza: 13127898518.658035\n- Desviación estándar: 114577.04184808594\n________________________\nDe 'loan_duration':\n- Máximo: 60\n- Mínimo: 12\n- Rango: 48\n- Percentil 25 (Q1): 24.0\n- Percentil 50 (Q2/Mediana): 36.0\n- Percentil 75 (Q3): 48.0\n- Varianza: 294.9050654221477\n- Desviación estándar: 17.172800162528755\n________________________\nDe 'loan_payments':\n- Máximo: 9910.0\n- Mínimo: 304.0\n- Rango: 9606.0\n- Percentil 25 (Q1): 2490.0\n- Percentil 50 (Q2/Mediana): 3883.0\n- Percentil 75 (Q3): 5885.0\n- Varianza: 5012036.706641173\n- Desviación estándar: 2238.757849040662\n________________________\n"
     ]
    }
   ],
   "source": [
    "from pyspark.sql import functions as F\n",
    "\n",
    "# Lista de columnas de interés\n",
    "medidas_dispersion = ['date_ac', 'date_loan', 'loan_amount', 'loan_duration', 'loan_payments']\n",
    "\n",
    "for column in medidas_dispersion:\n",
    "    if column in df.columns:\n",
    "        # Calcular métricas para la columna\n",
    "        max_value = df.agg(F.max(column).alias(\"max\")).collect()[0][\"max\"]\n",
    "        min_value = df.agg(F.min(column).alias(\"min\")).collect()[0][\"min\"]\n",
    "        rango = max_value - min_value\n",
    "        \n",
    "        # Percentiles usando approxQuantile\n",
    "        percentiles = df.approxQuantile(column, [0.25, 0.50, 0.75], 0.01)\n",
    "        q1, q2, q3 = percentiles\n",
    "        \n",
    "        # Varianza y desviación estándar\n",
    "        varianza = df.agg(F.variance(column).alias(\"variance\")).collect()[0][\"variance\"]\n",
    "        desv_est = df.agg(F.stddev(column).alias(\"stddev\")).collect()[0][\"stddev\"]\n",
    "        \n",
    "        # Imprimir resultados\n",
    "        print(f\"De '{column}':\")\n",
    "        print(f\"- Máximo: {max_value}\")\n",
    "        print(f\"- Mínimo: {min_value}\")\n",
    "        print(f\"- Rango: {rango}\")\n",
    "        print(f\"- Percentil 25 (Q1): {q1}\")\n",
    "        print(f\"- Percentil 50 (Q2/Mediana): {q2}\")\n",
    "        print(f\"- Percentil 75 (Q3): {q3}\")\n",
    "        print(f\"- Varianza: {varianza}\")\n",
    "        print(f\"- Desviación estándar: {desv_est}\")\n",
    "        print(\"________________________\")\n",
    "    else:\n",
    "        print(f\"La columna '{column}' no se encuentra en el DataFrame.\")\n"
   ]
  },
  {
   "cell_type": "code",
   "execution_count": 0,
   "metadata": {
    "application/vnd.databricks.v1+cell": {
     "cellMetadata": {
      "byteLimit": 2048000,
      "rowLimit": 10000
     },
     "inputWidgets": {},
     "nuid": "956593a5-ca45-4c8f-a448-4039e46fa00b",
     "showTitle": false,
     "tableResultSettingsMap": {},
     "title": ""
    }
   },
   "outputs": [
    {
     "output_type": "display_data",
     "data": {
      "image/png": "[encoded data removed]",
      "text/plain": [
       "<Figure size 1200x600 with 1 Axes>"
      ]
     },
     "metadata": {},
     "output_type": "display_data"
    },
    {
     "output_type": "display_data",
     "data": {
      "image/png": "[encoded data removed]",
      "text/plain": [
       "<Figure size 1200x600 with 1 Axes>"
      ]
     },
     "metadata": {},
     "output_type": "display_data"
    },
    {
     "output_type": "display_data",
     "data": {
      "image/png": "[encoded data removed]",
      "text/plain": [
       "<Figure size 1200x600 with 1 Axes>"
      ]
     },
     "metadata": {},
     "output_type": "display_data"
    }
   ],
   "source": [
    "from pyspark.sql import functions as F\n",
    "\n",
    "# variables cuantitativas y categóricas\n",
    "variables_cuantitativas = ['loan_amount', 'loan_duration', 'loan_payments']\n",
    "categoria = 'loan_status'\n",
    "columns_to_analyze = [var for var in variables_cuantitativas if var in df.columns and categoria in df.columns]\n",
    "# Convertir a Pandas para la visualización\n",
    "df_pandas = df.select([categoria] + columns_to_analyze).toPandas()\n",
    "# Visualización con Seaborn y Matplotlib\n",
    "import seaborn as sns\n",
    "import matplotlib.pyplot as plt\n",
    "\n",
    "for var in columns_to_analyze:\n",
    "    plt.figure(figsize=(12, 6))\n",
    "    sns.boxplot(x=categoria, y=var, data=df_pandas)\n",
    "    plt.title(f'Relación entre {categoria} y {var}')\n",
    "    plt.xlabel('Categoría')\n",
    "    plt.ylabel(var)\n",
    "    plt.show()\n"
   ]
  },
  {
   "cell_type": "code",
   "execution_count": 0,
   "metadata": {
    "application/vnd.databricks.v1+cell": {
     "cellMetadata": {
      "byteLimit": 2048000,
      "rowLimit": 10000
     },
     "inputWidgets": {},
     "nuid": "6cb6a721-24b0-4603-9f18-eb5df2332c50",
     "showTitle": false,
     "tableResultSettingsMap": {},
     "title": ""
    }
   },
   "outputs": [
    {
     "output_type": "stream",
     "name": "stdout",
     "output_type": "stream",
     "text": [
      "Chi-squared Test para 'loan_status' y 'account_frequency': chi2 = 3.680974957638988, p-value = 0.71975656948434\n"
     ]
    },
    {
     "output_type": "display_data",
     "data": {
      "image/png": "[encoded data removed]",
      "text/plain": [
       "<Figure size 1000x800 with 2 Axes>"
      ]
     },
     "metadata": {},
     "output_type": "display_data"
    },
    {
     "output_type": "stream",
     "name": "stdout",
     "output_type": "stream",
     "text": [
      "Chi-squared Test para 'loan_status' y 'type': chi2 = 18.891974147227664, p-value = 0.0002878258412030969\n"
     ]
    },
    {
     "output_type": "display_data",
     "data": {
      "image/png": "[encoded data removed]",
      "text/plain": [
       "<Figure size 1000x800 with 2 Axes>"
      ]
     },
     "metadata": {},
     "output_type": "display_data"
    }
   ],
   "source": [
    "from pyspark.sql import functions as F\n",
    "from pyspark.sql import DataFrame\n",
    "from scipy.stats import chi2_contingency\n",
    "import pandas as pd\n",
    "import seaborn as sns\n",
    "import matplotlib.pyplot as plt\n",
    "\n",
    "# Definir las variables categóricas\n",
    "variables_cualitativas = ['account_frequency', 'type']\n",
    "categoria = 'loan_status'\n",
    "\n",
    "# Verificar si las columnas existen\n",
    "columns_to_analyze = [var for var in variables_cualitativas if var in df.columns and categoria in df.columns]\n",
    "\n",
    "# Convertir las columnas relevantes a Pandas\n",
    "df_pandas = df.select([categoria] + columns_to_analyze).toPandas()\n",
    "\n",
    "# Iterar por las variables cualitativas\n",
    "for var in columns_to_analyze:\n",
    "    # Crear tabla de contingencia\n",
    "    tabla_contingencia = pd.crosstab(df_pandas[categoria], df_pandas[var])\n",
    "    \n",
    "    # Realizar la prueba de Chi-cuadrado\n",
    "    chi2, p, dof, expected = chi2_contingency(tabla_contingencia)\n",
    "    print(f\"Chi-squared Test para '{categoria}' y '{var}': chi2 = {chi2}, p-value = {p}\")\n",
    "    \n",
    "    # Visualizar la tabla de contingencia\n",
    "    plt.figure(figsize=(10, 8))\n",
    "    sns.heatmap(tabla_contingencia, annot=True, cmap='coolwarm', fmt='g')\n",
    "    plt.title(f'Tabla de Contingencia entre {categoria} y {var}')\n",
    "    plt.ylabel(categoria)\n",
    "    plt.xlabel(var)\n",
    "    plt.show()\n"
   ]
  },
  {
   "cell_type": "code",
   "execution_count": 0,
   "metadata": {
    "application/vnd.databricks.v1+cell": {
     "cellMetadata": {},
     "inputWidgets": {},
     "nuid": "1c9f2d7e-10cf-4ff9-9bc3-a49bbc12492d",
     "showTitle": false,
     "tableResultSettingsMap": {},
     "title": ""
    }
   },
   "outputs": [],
   "source": []
  }
 ],
 "metadata": {
  "application/vnd.databricks.v1+notebook": {
   "dashboards": [],
   "environmentMetadata": {
    "base_environment": "",
    "client": "1"
   },
   "language": "python",
   "notebookMetadata": {
    "mostRecentlyExecutedCommandWithImplicitDF": {
     "commandId": 3174883009106985,
     "dataframes": [
      "_sqldf"
     ]
    },
    "pythonIndentUnit": 4
   },
   "notebookName": "union de tablas - casoBerka Untitled Notebook 2024-12-14 12:39:47",
   "widgets": {}
  }
 },
 "nbformat": 4,
 "nbformat_minor": 0
}
